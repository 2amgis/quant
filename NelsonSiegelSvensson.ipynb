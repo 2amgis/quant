{
 "cells": [
  {
   "cell_type": "markdown",
   "id": "9273e440",
   "metadata": {},
   "source": [
    "## Calibrating Nelson-Siegel-Svensson Model using Scipy curve_fit()"
   ]
  },
  {
   "cell_type": "markdown",
   "id": "65a573c3",
   "metadata": {},
   "source": [
    "### 'scipy.optimize.curve_fit' uses a non-linear least squares to fit a function."
   ]
  },
  {
   "cell_type": "markdown",
   "id": "f60a8bb3",
   "metadata": {},
   "source": [
    "The following code is adapted from https://docs.scipy.org/doc/scipy/reference/generated/scipy.optimize.curve_fit.html"
   ]
  },
  {
   "cell_type": "markdown",
   "id": "d890a265",
   "metadata": {},
   "source": [
    "Importing libaries"
   ]
  },
  {
   "cell_type": "code",
   "execution_count": 1,
   "id": "621f71ae",
   "metadata": {},
   "outputs": [],
   "source": [
    "import numpy as np\n",
    "import matplotlib.pyplot as plt\n",
    "from scipy.optimize import curve_fit"
   ]
  },
  {
   "cell_type": "markdown",
   "id": "7db64a65",
   "metadata": {},
   "source": [
    "Define the function:\n",
    "$ f(x) = a \\cdot e^{-bx}+c $"
   ]
  },
  {
   "cell_type": "code",
   "execution_count": 2,
   "id": "c22706bf",
   "metadata": {},
   "outputs": [],
   "source": [
    "def func(x, a, b, c):\n",
    "    return a * np.exp(-b * x) + c"
   ]
  },
  {
   "cell_type": "markdown",
   "id": "1fafcfa9",
   "metadata": {},
   "source": [
    "Define the data"
   ]
  },
  {
   "cell_type": "code",
   "execution_count": 3,
   "id": "90aa2293",
   "metadata": {},
   "outputs": [
    {
     "data": {
      "text/plain": [
       "[<matplotlib.lines.Line2D at 0x1dcc879cfa0>]"
      ]
     },
     "execution_count": 3,
     "metadata": {},
     "output_type": "execute_result"
    },
    {
     "data": {
      "image/png": "[encoded data removed]",
      "text/plain": [
       "<Figure size 432x288 with 1 Axes>"
      ]
     },
     "metadata": {
      "needs_background": "light"
     },
     "output_type": "display_data"
    }
   ],
   "source": [
    "xdata = np.linspace(0, 4, 50) # returns 50 evenly spaced sample between 0 and 40\n",
    "\n",
    "y = func(xdata, 2.5, 1.3, 0.5) # input 'xdata' into fuction to get 'y', where a=2.5, b=1.3, c=0.5\n",
    "rng = np.random.default_rng() # construct a default BitGenerator PCG64\n",
    "\n",
    "y_noise = 0.2 * rng.normal(size=xdata.size) # generate noise data\n",
    "\n",
    "ydata = y + y_noise # adding noise to the data\n",
    "plt.plot(xdata, ydata, 'b.', label='data') # visualizing the engineered data"
   ]
  },
  {
   "cell_type": "markdown",
   "id": "63e18569",
   "metadata": {},
   "source": [
    "We now invoke **scipy.optimize.curve_fit** to find the optimal value of a, b, and c based on the data engineered above.<br>\n",
    "Since we engineered the data using the function $ f(x) = a \\cdot e^{-bx}+c $ by setting a=2.5, b=1.3, c=0.5 and adding some noise to it, the optimal values for the parameters (i.e. a,b and c) should be near to 2.5, 1.3 and 0.5"
   ]
  },
  {
   "cell_type": "markdown",
   "id": "bd981c18",
   "metadata": {},
   "source": [
    "Invoking Scipy curve_fit()"
   ]
  },
  {
   "cell_type": "code",
   "execution_count": 4,
   "id": "e0fc3668",
   "metadata": {},
   "outputs": [
    {
     "data": {
      "text/plain": [
       "array([2.43788937, 1.33937834, 0.53730713])"
      ]
     },
     "execution_count": 4,
     "metadata": {},
     "output_type": "execute_result"
    }
   ],
   "source": [
    "popt, pcov = curve_fit(func, xdata, ydata)\n",
    "popt"
   ]
  },
  {
   "cell_type": "markdown",
   "id": "cc8529b3",
   "metadata": {},
   "source": [
    "### Visualizing the data and curve fit together"
   ]
  },
  {
   "cell_type": "code",
   "execution_count": 5,
   "id": "5ff1f9d4",
   "metadata": {},
   "outputs": [
    {
     "data": {
      "image/png": "[encoded data removed]",
      "text/plain": [
       "<Figure size 432x288 with 1 Axes>"
      ]
     },
     "metadata": {
      "needs_background": "light"
     },
     "output_type": "display_data"
    }
   ],
   "source": [
    "plt.plot(xdata, ydata, 'b.', label='data')\n",
    "plt.plot(xdata, func(xdata, *popt), 'r-', label='fit: a=%5.3f, b=%5.3f, c=%5.3f' % tuple(popt))\n",
    "\n",
    "plt.xlabel('x')\n",
    "plt.ylabel('y')\n",
    "plt.legend()\n",
    "plt.show()"
   ]
  },
  {
   "cell_type": "markdown",
   "id": "7a6b134a",
   "metadata": {},
   "source": [
    "## Applying 'scipy.optimize.curve_fit' into Nelson-Siegel Model"
   ]
  },
  {
   "cell_type": "markdown",
   "id": "6600f416",
   "metadata": {},
   "source": [
    "###  Nelson and Siegel (1987)"
   ]
  },
  {
   "cell_type": "markdown",
   "id": "a732dc77",
   "metadata": {},
   "source": [
    "Define Nelson and Siegel forward function as follows: <br>\n",
    "<br>\n",
    "$ f(m:b) = {\\beta}_0 + {\\beta}_1 exp({-\\frac{m}{{\\tau}_1}}) + {\\beta}_2 \\frac{m}{{\\tau}_1} exp({-\\frac{m}{{\\tau}_1}}) $ <br>\n",
    "<br>\n",
    "where $ \\beta = ({\\beta}_0,{\\beta}_1,{\\beta}_2,{\\tau}_1) $ <br>\n",
    "subject to the following constraints: <br>\n",
    "\n",
    "$ {\\beta}_0 > 0 $ <br>\n",
    "$ {\\beta}_0 + {\\beta}_1 > 0 $ <br>\n",
    "$ {\\tau}_1 > 0 $"
   ]
  },
  {
   "cell_type": "code",
   "execution_count": 6,
   "id": "442c41cc",
   "metadata": {},
   "outputs": [],
   "source": [
    "def NS(m, beta0, beta1, beta2, tau1):\n",
    "    if (beta0 + beta1) > 0:\n",
    "        return beta0 + (beta1 * np.exp(-m / tau1)) + (beta2 * (-m/tau1) * np.exp(-m/tau1))"
   ]
  },
  {
   "cell_type": "code",
   "execution_count": 7,
   "id": "f1c85a17",
   "metadata": {},
   "outputs": [],
   "source": [
    "xdata = np.array([1/12, 3/12, 6/12, 1, 2, 3, 4, 5, 6, 7, 8, 9, 10]) # tenor\n",
    "ydata = np.array([5.0521, 5.286, 5.434, 5.707, 6.083, 6.365, 6.598, 6.711, 6.878, 6.967, 7.058, 7.106, 7.102]) # yield"
   ]
  },
  {
   "cell_type": "code",
   "execution_count": 8,
   "id": "e02aef3c",
   "metadata": {},
   "outputs": [
    {
     "data": {
      "text/plain": [
       "array([ 7.20240544e+00, -2.11411976e+00,  1.02854294e-05,  3.17438173e+00])"
      ]
     },
     "execution_count": 8,
     "metadata": {},
     "output_type": "execute_result"
    }
   ],
   "source": [
    "# beta0, (beta0 + beta1) and tau1 must be positive\n",
    "popt, pcov = curve_fit(NS, xdata, ydata, bounds = ( (0,-np.inf,-np.inf,0), (np.inf,np.inf,np.inf,np.inf)))\n",
    "popt"
   ]
  },
  {
   "cell_type": "code",
   "execution_count": 9,
   "id": "669a4273",
   "metadata": {},
   "outputs": [
    {
     "data": {
      "image/png": "[encoded data removed]",
      "text/plain": [
       "<Figure size 432x288 with 1 Axes>"
      ]
     },
     "metadata": {
      "needs_background": "light"
     },
     "output_type": "display_data"
    }
   ],
   "source": [
    "plt.plot(xdata, ydata, 'b.', label='data')\n",
    "\n",
    "x_data = np.linspace(0, 10, 10)\n",
    "plt.plot(x_data, NS(x_data, *popt), 'r-', label='NS: b0=%5.3f, b1=%5.3f, b2=%5.3f, t1=%5.3f' % tuple(popt))\n",
    "\n",
    "plt.xlabel('tenor')\n",
    "plt.ylabel('yield')\n",
    "plt.legend()\n",
    "plt.show()"
   ]
  },
  {
   "cell_type": "markdown",
   "id": "0b1594aa",
   "metadata": {},
   "source": [
    "## Applying 'scipy.optimize.curve_fit' into Nelson-Siegel-Sevensson Model"
   ]
  },
  {
   "cell_type": "markdown",
   "id": "9e189656",
   "metadata": {},
   "source": [
    "###  Nelson-Siege-Svensson (1994)"
   ]
  },
  {
   "cell_type": "markdown",
   "id": "e8ddb669",
   "metadata": {},
   "source": [
    "Define Nelson-Siegel-Svensson function as follows: <br>\n",
    "<br>\n",
    "$ f(m:b) = {\\beta}_0 + {\\beta}_1 exp({-\\frac{m}{{\\tau}_1}}) + {\\beta}_2 \\frac{m}{{\\tau}_1} exp({-\\frac{m}{{\\tau}_1}}) + {\\beta}_3 \\frac{m}{{\\tau}_2} exp({-\\frac{m}{{\\tau}_2}})$ <br>\n",
    "<br>\n",
    "where $ \\beta = ({\\beta}_0,{\\beta}_1,{\\beta}_2,{\\tau}_1,{\\tau}_2) $ <br>\n",
    "subject to the following constraints: <br>\n",
    "\n",
    "$ {\\beta}_0 > 0 $ <br>\n",
    "$ {\\beta}_0 + {\\beta}_1 > 0 $ <br>\n",
    "$ {\\tau}_1, {\\tau}_2 > 0 $"
   ]
  },
  {
   "cell_type": "code",
   "execution_count": 10,
   "id": "360cde2a",
   "metadata": {},
   "outputs": [],
   "source": [
    "def NSS(m, beta0, beta1, beta2, beta3, tau1, tau2):\n",
    "    if beta0 + beta1 > 0:\n",
    "        return beta0 + (beta1 * np.exp(-m / tau1)) + (beta2 * (m/tau1) * np.exp(-m/tau1)) + (beta3 * (m/tau2) * np.exp(-m/tau2))"
   ]
  },
  {
   "cell_type": "code",
   "execution_count": 11,
   "id": "e583155d",
   "metadata": {},
   "outputs": [],
   "source": [
    "xdata = np.array([1/12, 3/12, 6/12, 1, 2, 3, 4, 5, 6, 7, 8, 9, 10]) # tenor\n",
    "ydata = np.array([5.0521, 5.286, 5.434, 5.707, 6.083, 6.365, 6.598, 6.711, 6.878, 6.967, 7.058, 7.106, 7.102]) # yield"
   ]
  },
  {
   "cell_type": "code",
   "execution_count": 12,
   "id": "c005173b",
   "metadata": {},
   "outputs": [
    {
     "data": {
      "text/plain": [
       "array([ 7.21905116e+00, -2.26262864e+00, -9.42607427e-05,  4.58100924e-01,\n",
       "        3.17163816e+00,  6.16403484e-01])"
      ]
     },
     "execution_count": 12,
     "metadata": {},
     "output_type": "execute_result"
    }
   ],
   "source": [
    "# beta0, (beta0 + beta1), tau1 and tau2 must be positive\n",
    "popt, pcov = curve_fit(NSS, xdata, ydata, bounds = ( (0,-np.inf,-np.inf,0,0,0), (np.inf,np.inf,np.inf,np.inf,np.inf,np.inf) ))\n",
    "popt"
   ]
  },
  {
   "cell_type": "code",
   "execution_count": 13,
   "id": "b7eb7790",
   "metadata": {},
   "outputs": [
    {
     "data": {
      "image/png": "[encoded data removed]",
      "text/plain": [
       "<Figure size 432x288 with 1 Axes>"
      ]
     },
     "metadata": {
      "needs_background": "light"
     },
     "output_type": "display_data"
    }
   ],
   "source": [
    "plt.plot(xdata, ydata, 'b.', label='data')\n",
    "\n",
    "x_data = np.linspace(0, 10, 50)\n",
    "plt.plot(x_data, NSS(x_data, *popt), 'g--', label='NS: b0=%5.3f, b1=%5.3f, b2=%5.3f, b3=%5.3f, t1=%5.3f, t2=%5.3f' % tuple(popt))\n",
    "\n",
    "plt.xlabel('tenor')\n",
    "plt.ylabel('yield')\n",
    "plt.legend()\n",
    "plt.show()"
   ]
  }
 ],
 "metadata": {
  "kernelspec": {
   "display_name": "Python 3 (ipykernel)",
   "language": "python",
   "name": "python3"
  },
  "language_info": {
   "codemirror_mode": {
    "name": "ipython",
    "version": 3
   },
   "file_extension": ".py",
   "mimetype": "text/x-python",
   "name": "python",
   "nbconvert_exporter": "python",
   "pygments_lexer": "ipython3",
   "version": "3.9.9"
  }
 },
 "nbformat": 4,
 "nbformat_minor": 5
}

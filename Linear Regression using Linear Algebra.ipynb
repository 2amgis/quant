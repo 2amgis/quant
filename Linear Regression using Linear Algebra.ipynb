{
 "cells": [
  {
   "cell_type": "code",
   "execution_count": 1,
   "id": "27beaf95",
   "metadata": {},
   "outputs": [],
   "source": [
    "import matplotlib.pyplot as plt\n",
    "import numpy as np"
   ]
  },
  {
   "cell_type": "markdown",
   "id": "28711871",
   "metadata": {},
   "source": [
    "In a simple linear regression, we have the following,"
   ]
  },
  {
   "cell_type": "markdown",
   "id": "d965e16e",
   "metadata": {},
   "source": [
    "$\n",
    "\\begin{bmatrix}\n",
    "y_{1}\\\\\n",
    "y_{2}\\\\\n",
    "\\vdots \\\\\n",
    "y_{n}\n",
    "\\end{bmatrix} = \n",
    "\\begin{bmatrix}\n",
    "1 & x_{1} \\\\\n",
    "1 & x_{2} \\\\\n",
    "1 & \\vdots \\\\\n",
    "1 & x_{n}\n",
    "\\end{bmatrix} * \n",
    "\\begin{bmatrix}\n",
    "\\beta_{0} \\\\\n",
    "\\beta_{1} \n",
    "\\end{bmatrix} + \n",
    "\\begin{bmatrix}\n",
    "\\varepsilon_{0} \\\\\n",
    "\\varepsilon_{1} \\\\\n",
    "\\vdots \\\\\n",
    "\\varepsilon_{n} \n",
    "\\end{bmatrix}\n",
    "$"
   ]
  },
  {
   "cell_type": "markdown",
   "id": "7b5dbe05",
   "metadata": {},
   "source": [
    "$ \\text{where y = }\n",
    "\\begin{bmatrix}\n",
    "y_{1}\\\\\n",
    "y_{2}\\\\\n",
    "\\vdots \\\\\n",
    "y_{n}\n",
    "\\end{bmatrix},\n",
    "\\text{X = }\n",
    "\\begin{bmatrix}\n",
    "1 & x_{1} \\\\\n",
    "1 & x_{2} \\\\\n",
    "1 & \\vdots \\\\\n",
    "1 & x_{n}\n",
    "\\end{bmatrix},\n",
    "\\beta{} = \n",
    "\\begin{bmatrix}\n",
    "\\beta_{0} \\\\\n",
    "\\beta_{1} \n",
    "\\end{bmatrix},\n",
    "\\varepsilon_{} =\n",
    "\\begin{bmatrix}\n",
    "\\varepsilon_{0} \\\\\n",
    "\\varepsilon_{1} \\\\\n",
    "\\vdots \\\\\n",
    "\\varepsilon_{n} \n",
    "\\end{bmatrix}\n",
    "$"
   ]
  },
  {
   "cell_type": "markdown",
   "id": "56d024e0",
   "metadata": {},
   "source": [
    "$ \\text{Hence, expressing the above in matrix notation, we have } y = X\\beta + \\varepsilon $"
   ]
  },
  {
   "cell_type": "markdown",
   "id": "bab1041d",
   "metadata": {},
   "source": [
    "### Linear Regression using Linear Algebra"
   ]
  },
  {
   "cell_type": "markdown",
   "id": "68d4e466",
   "metadata": {},
   "source": [
    "1. Generate random datapoint $ x $ and $ y $ with noise"
   ]
  },
  {
   "cell_type": "code",
   "execution_count": 2,
   "id": "519739d6",
   "metadata": {},
   "outputs": [
    {
     "data": {
      "image/png": "[encoded data removed]",
      "text/plain": [
       "<Figure size 432x288 with 1 Axes>"
      ]
     },
     "metadata": {
      "needs_background": "light"
     },
     "output_type": "display_data"
    }
   ],
   "source": [
    "x = np.linspace(0,5,5)\n",
    "noise = np.random.normal(0,1,5)\n",
    "\n",
    "y = 2*x+1 + noise\n",
    "\n",
    "plt.plot(x, y, '.', label='datapoint')\n",
    "plt.title('Linear Regression')\n",
    "plt.xlabel('x')\n",
    "plt.ylabel('y')\n",
    "plt.legend()\n",
    "plt.grid()\n",
    "plt.show()"
   ]
  },
  {
   "cell_type": "code",
   "execution_count": 3,
   "id": "98b88f3b",
   "metadata": {},
   "outputs": [
    {
     "name": "stdout",
     "output_type": "stream",
     "text": [
      "x is  [0.   1.25 2.5  3.75 5.  ]\n",
      "y is  [ 0.3820877   5.1527661   5.95621977 10.12354313  9.54720834]\n"
     ]
    }
   ],
   "source": [
    "print('x is ',x)\n",
    "print('y is ',y)"
   ]
  },
  {
   "cell_type": "markdown",
   "id": "27eafc3d",
   "metadata": {},
   "source": [
    "2. Transform $ x $ datapoint into matrix $ X $ <br>\n",
    "\n",
    "$\\text{X = }\n",
    "\\begin{bmatrix}\n",
    "1 & x_{1} \\\\\n",
    "1 & x_{2} \\\\\n",
    "1 & \\vdots \\\\\n",
    "1 & x_{n}\n",
    "\\end{bmatrix}$"
   ]
  },
  {
   "cell_type": "code",
   "execution_count": 4,
   "id": "5a3d3791",
   "metadata": {},
   "outputs": [
    {
     "name": "stdout",
     "output_type": "stream",
     "text": [
      "[[1.   0.  ]\n",
      " [1.   1.25]\n",
      " [1.   2.5 ]\n",
      " [1.   3.75]\n",
      " [1.   5.  ]]\n"
     ]
    }
   ],
   "source": [
    "X = np.asarray([np.ones(5), x]).T\n",
    "print(X)"
   ]
  },
  {
   "cell_type": "markdown",
   "id": "25369530",
   "metadata": {},
   "source": [
    "3. Find the transpose of matrix $ X $, i.e. $ X^{T} $"
   ]
  },
  {
   "cell_type": "code",
   "execution_count": 5,
   "id": "2a21da40",
   "metadata": {},
   "outputs": [
    {
     "name": "stdout",
     "output_type": "stream",
     "text": [
      "[[1.   1.   1.   1.   1.  ]\n",
      " [0.   1.25 2.5  3.75 5.  ]]\n"
     ]
    }
   ],
   "source": [
    "XT = np.matrix.transpose(X)\n",
    "print(XT)"
   ]
  },
  {
   "cell_type": "markdown",
   "id": "e176a0c7",
   "metadata": {},
   "source": [
    "4. Multiply $ X^{T} $ and $ X $"
   ]
  },
  {
   "cell_type": "code",
   "execution_count": 6,
   "id": "975edc2c",
   "metadata": {},
   "outputs": [
    {
     "name": "stdout",
     "output_type": "stream",
     "text": [
      "[[ 5.    12.5  ]\n",
      " [12.5   46.875]]\n"
     ]
    }
   ],
   "source": [
    "XT_X = np.matmul(XT, X)\n",
    "print(XT_X)"
   ]
  },
  {
   "cell_type": "markdown",
   "id": "007160dd",
   "metadata": {},
   "source": [
    "5. Multiply $ X^{T} $ and $ y $"
   ]
  },
  {
   "cell_type": "code",
   "execution_count": 7,
   "id": "866a1243",
   "metadata": {},
   "outputs": [
    {
     "name": "stdout",
     "output_type": "stream",
     "text": [
      "[ 31.16182505 107.03083552]\n"
     ]
    }
   ],
   "source": [
    "XT_y = np.matmul(XT,y)\n",
    "print(XT_y)"
   ]
  },
  {
   "cell_type": "markdown",
   "id": "5d556733",
   "metadata": {},
   "source": [
    "6. Compute the inverse of $ X^{T}X $"
   ]
  },
  {
   "cell_type": "code",
   "execution_count": 8,
   "id": "d087bae3",
   "metadata": {},
   "outputs": [
    {
     "data": {
      "text/plain": [
       "array([[ 0.6  , -0.16 ],\n",
       "       [-0.16 ,  0.064]])"
      ]
     },
     "execution_count": 8,
     "metadata": {},
     "output_type": "execute_result"
    }
   ],
   "source": [
    "np.linalg.inv(XT_X)"
   ]
  },
  {
   "cell_type": "markdown",
   "id": "11bc63fe",
   "metadata": {},
   "source": [
    "7. To solve for $ \\beta_{0} $ and $ \\beta_{1} $, we multiply the inverse of matrix $ X^{T}X $ with $ X^{T}y $ <br>\n",
    "<br>\n",
    "i.e. $ \\beta = (X^{T}X )^{-1} \\bullet X^{T}y $"
   ]
  },
  {
   "cell_type": "code",
   "execution_count": 9,
   "id": "3ab36cb9",
   "metadata": {},
   "outputs": [
    {
     "name": "stdout",
     "output_type": "stream",
     "text": [
      "1.5721613473534788 1.864081465090484\n"
     ]
    }
   ],
   "source": [
    "beta0, beta1 = np.matmul(np.linalg.inv(XT_X), XT_y)\n",
    "print(beta0, beta1)"
   ]
  },
  {
   "cell_type": "markdown",
   "id": "c758b9b3",
   "metadata": {},
   "source": [
    "8. Using $ \\beta_{0} $ and $ \\beta_{1} $ we obtained above, we estimate for $ y $ <br>\n",
    "<br>\n",
    "i.e. $ \\hat{y}  = \\hat{\\beta_{0}} + \\hat{\\beta_{1}}X $"
   ]
  },
  {
   "cell_type": "code",
   "execution_count": 10,
   "id": "2fc802b6",
   "metadata": {},
   "outputs": [
    {
     "name": "stdout",
     "output_type": "stream",
     "text": [
      "[ 1.57216135  3.90226318  6.23236501  8.56246684 10.89256867]\n"
     ]
    }
   ],
   "source": [
    "y_hat = beta0 + beta1*x\n",
    "print(y_hat)"
   ]
  },
  {
   "cell_type": "markdown",
   "id": "b88247bd",
   "metadata": {},
   "source": [
    "9. Plotting the linear regression line together with the datapoints"
   ]
  },
  {
   "cell_type": "code",
   "execution_count": 11,
   "id": "6ff4d085",
   "metadata": {},
   "outputs": [
    {
     "data": {
      "image/png": "[encoded data removed]",
      "text/plain": [
       "<Figure size 432x288 with 1 Axes>"
      ]
     },
     "metadata": {
      "needs_background": "light"
     },
     "output_type": "display_data"
    }
   ],
   "source": [
    "plt.plot(x, y, '.', label='datapoint')\n",
    "plt.plot(x, y_hat, '-', label='linear regression')\n",
    "plt.title('Linear Regression')\n",
    "plt.xlabel('x')\n",
    "plt.ylabel('y')\n",
    "plt.legend()\n",
    "plt.grid()\n",
    "plt.show()"
   ]
  },
  {
   "cell_type": "code",
   "execution_count": null,
   "id": "8c390889",
   "metadata": {},
   "outputs": [],
   "source": []
  }
 ],
 "metadata": {
  "kernelspec": {
   "display_name": "Python 3 (ipykernel)",
   "language": "python",
   "name": "python3"
  },
  "language_info": {
   "codemirror_mode": {
    "name": "ipython",
    "version": 3
   },
   "file_extension": ".py",
   "mimetype": "text/x-python",
   "name": "python",
   "nbconvert_exporter": "python",
   "pygments_lexer": "ipython3",
   "version": "3.9.9"
  }
 },
 "nbformat": 4,
 "nbformat_minor": 5
}

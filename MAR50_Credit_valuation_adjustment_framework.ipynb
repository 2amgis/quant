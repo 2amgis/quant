{
 "cells": [
  {
   "cell_type": "markdown",
   "id": "8ea7bf1f",
   "metadata": {},
   "source": [
    "# MAR50 - Credit valuation adjustment framework\n",
    "#### Version effective as of 01 Jan 2023\n",
    "##### Source: https://www.bis.org/basel_framework/chapter/MAR/50.htm?inforce=20230101&published=20200708"
   ]
  },
  {
   "cell_type": "markdown",
   "id": "b49f6690",
   "metadata": {},
   "source": [
    "#### 50.14 (3)"
   ]
  },
  {
   "cell_type": "markdown",
   "id": "066f92ae",
   "metadata": {},
   "source": [
    "$ K_{reduced} = \\sqrt{ (\\rho \\cdot \\sum_c SCVA_C )^{2}+ (1-\\rho^{2})\\cdot \\sum_c SCVA_C^{2})} $"
   ]
  },
  {
   "cell_type": "code",
   "execution_count": 47,
   "id": "e33261d6",
   "metadata": {},
   "outputs": [],
   "source": [
    "def MAR50_14_3(scva_c):\n",
    "    import numpy as np\n",
    "    import math\n",
    "    \n",
    "    rho = 0.5\n",
    "    a = (rho * sum(rand_lst))**2\n",
    "    b = (1 - rho**2) * sum(np.square(rand_lst).tolist())\n",
    "\n",
    "    K_reduced = math.sqrt(a + b)\n",
    "    return K_reduced"
   ]
  },
  {
   "cell_type": "markdown",
   "id": "8c593058",
   "metadata": {},
   "source": [
    "Generate randon number list"
   ]
  },
  {
   "cell_type": "code",
   "execution_count": 48,
   "id": "7de7aaa9",
   "metadata": {},
   "outputs": [
    {
     "name": "stdout",
     "output_type": "stream",
     "text": [
      "[7, 4, 8, 3, 4]\n"
     ]
    }
   ],
   "source": [
    "import random\n",
    " \n",
    "rand_lst=[]\n",
    "\n",
    "n = 5\n",
    "\n",
    "for i in range(n):\n",
    "    rand_lst.append(random.randint(1,9))\n",
    "    \n",
    "print(rand_lst)"
   ]
  },
  {
   "cell_type": "markdown",
   "id": "d309562e",
   "metadata": {},
   "source": [
    "Parse \"rand_lst\" as $SCVA_C$ into Formula 50.14 (3)"
   ]
  },
  {
   "cell_type": "code",
   "execution_count": 50,
   "id": "f6d775bd",
   "metadata": {},
   "outputs": [
    {
     "name": "stdout",
     "output_type": "stream",
     "text": [
      "16.867127793433\n"
     ]
    }
   ],
   "source": [
    "K_reduced = MAR50_14_3(rand_lst)\n",
    "print(K_reduced)"
   ]
  },
  {
   "cell_type": "markdown",
   "id": "e4671565",
   "metadata": {},
   "source": [
    "... to be continued ..."
   ]
  },
  {
   "cell_type": "code",
   "execution_count": null,
   "id": "8f4d27a0",
   "metadata": {},
   "outputs": [],
   "source": []
  }
 ],
 "metadata": {
  "kernelspec": {
   "display_name": "Python 3 (ipykernel)",
   "language": "python",
   "name": "python3"
  },
  "language_info": {
   "codemirror_mode": {
    "name": "ipython",
    "version": 3
   },
   "file_extension": ".py",
   "mimetype": "text/x-python",
   "name": "python",
   "nbconvert_exporter": "python",
   "pygments_lexer": "ipython3",
   "version": "3.9.9"
  }
 },
 "nbformat": 4,
 "nbformat_minor": 5
}
